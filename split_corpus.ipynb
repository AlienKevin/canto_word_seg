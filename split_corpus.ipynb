{
 "cells": [
  {
   "cell_type": "code",
   "execution_count": 6,
   "metadata": {},
   "outputs": [],
   "source": [
    "import random\n",
    "import pycantonese\n",
    "\n",
    "percents = [0.1, 0.2, 0.3, 0.4, 0.5, 0.6, 0.7, 0.8, 0.9]\n",
    "\n",
    "hkcancor = pycantonese.hkcancor()\n",
    "lines = [[token.word for token in line] for line in hkcancor.tokens(by_utterances=True)]\n",
    "random.Random(42).shuffle(lines)\n",
    "for percent in percents:\n",
    "    with open(\"data/hkcancor_\" + str(round(percent * 100)) + \".txt\", \"w\") as o:\n",
    "        for i in range(int(len(lines) * percent)):\n",
    "            o.write(\" \".join(lines[i]) + \"\\n\")\n",
    "    with open(\"data/hkcancor_test.txt\", \"w\") as o:\n",
    "        for i in range(int(len(lines) * percent), len(lines)):\n",
    "            o.write(\" \".join(lines[i]) + \"\\n\")"
   ]
  }
 ],
 "metadata": {
  "kernelspec": {
   "display_name": "Python 3",
   "language": "python",
   "name": "python3"
  },
  "language_info": {
   "codemirror_mode": {
    "name": "ipython",
    "version": 3
   },
   "file_extension": ".py",
   "mimetype": "text/x-python",
   "name": "python",
   "nbconvert_exporter": "python",
   "pygments_lexer": "ipython3",
   "version": "3.10.6"
  },
  "orig_nbformat": 4
 },
 "nbformat": 4,
 "nbformat_minor": 2
}
